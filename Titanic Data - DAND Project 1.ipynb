{
 "cells": [
  {
   "cell_type": "markdown",
   "metadata": {},
   "source": [
    "# Analyzing the Titanic Data"
   ]
  },
  {
   "cell_type": "markdown",
   "metadata": {},
   "source": [
    "## Introductionary words\n",
    "\n",
    "This **project** is part of the **[Udacity data analyst nanodegree](https://www.udacity.com/course/data-analyst-nanodegree--nd002)**. This analysis is done by **[Guillaume Simler](https://github.com/guillaumesimler)** as part of his nanodegree's graduation.\n",
    "\n",
    "For more infos, please have a look at the related **[githup repo](https://github.com/guillaumesimler/nanodap1)**"
   ]
  },
  {
   "cell_type": "markdown",
   "metadata": {},
   "source": [
    "## Some discussions about the facts\n",
    "\n",
    "Everybody knows about the story of the RMS Titanic, the unsinkable sunken cruiser, and her catastrophic ending. If it is not the case, please have a look at the [wikipedia page](https://en.wikipedia.org/wiki/RMS_Titanic).\n",
    "\n",
    "As it was considered unsinkable, there were no need for life boat capacity matching at least the number of passengers and crews. So this error became quite **fatal**.\n",
    "Actually you would need far more capacity as the sinking of the [Costa Concordia](https://en.wikipedia.org/wiki/Costa_Concordia_disaster) showed.\n",
    "\n",
    "One last thing about the Titanic\n",
    "> *Built by Irishmen. Sunk by Englishmen*"
   ]
  },
  {
   "cell_type": "markdown",
   "metadata": {},
   "source": [
    "## 1. Loading modules & files "
   ]
  },
  {
   "cell_type": "code",
   "execution_count": null,
   "metadata": {
    "collapsed": true
   },
   "outputs": [],
   "source": [
    "# Import Modules\n",
    "\n",
    "import numpy as np\n",
    "import pandas as pd\n",
    "import matplotlib.pyplot as plt\n",
    "import seaborn as sns"
   ]
  },
  {
   "cell_type": "code",
   "execution_count": null,
   "metadata": {
    "collapsed": true
   },
   "outputs": [],
   "source": [
    "# Import Data \n",
    "\n",
    "passenger_df = pd.read_csv('titanic-data.csv')"
   ]
  },
  {
   "cell_type": "markdown",
   "metadata": {},
   "source": [
    "#### Testing the data loading"
   ]
  },
  {
   "cell_type": "code",
   "execution_count": null,
   "metadata": {
    "scrolled": true
   },
   "outputs": [],
   "source": [
    "passenger_df.head(7)"
   ]
  },
  {
   "cell_type": "code",
   "execution_count": null,
   "metadata": {},
   "outputs": [],
   "source": [
    "# Number of data set\n",
    "\n",
    "print len(passenger_df.index) "
   ]
  },
  {
   "cell_type": "markdown",
   "metadata": {},
   "source": [
    "## 2. Data wrangling: First Analysis\n",
    "\n",
    "Several topics need to be checked after the data:\n",
    "1. Some passengers have no **Cabin** number. Out of the small data set, it seems to be linked with the class: the third class passengers seems to have no numbered cabine. **This needs to be checked !**\n",
    "2. Some persons don't have any age data filed. **It needs to be checked how frequent this happens !!**\n"
   ]
  },
  {
   "cell_type": "markdown",
   "metadata": {},
   "source": [
    "#### 2.1. The \"unassigned cabin issue\": Data Analysis"
   ]
  },
  {
   "cell_type": "code",
   "execution_count": null,
   "metadata": {},
   "outputs": [],
   "source": [
    "# Select the data for the passenger with no cabin\n",
    "\n",
    "passengers_without_cabins = passenger_df.loc[pd.isnull(passenger_df['Cabin'])]"
   ]
  },
  {
   "cell_type": "code",
   "execution_count": null,
   "metadata": {
    "scrolled": true
   },
   "outputs": [],
   "source": [
    "# Check if there is a link between the absence of cabin and the class\n",
    "\n",
    "pwoc_nb = passengers_without_cabins.groupby('Pclass')\n",
    "\n",
    "print 'The number of passengers by class without a cabin number is'\n",
    "print pwoc_nb.size()\n"
   ]
  },
  {
   "cell_type": "code",
   "execution_count": null,
   "metadata": {},
   "outputs": [],
   "source": [
    "# Check the number of passenger with cabins\n",
    "\n",
    "pwc_nb = passenger_df.groupby('Pclass').size() - pwoc_nb.size()\n",
    "\n",
    "print 'The number of passengers by class with a cabin number is'\n",
    "print pwc_nb"
   ]
  },
  {
   "cell_type": "code",
   "execution_count": null,
   "metadata": {},
   "outputs": [],
   "source": [
    "# Check the proportion of the passenger with cabins\n",
    "\n",
    "print pwc_nb / passenger_df.groupby('Pclass').size()"
   ]
  },
  {
   "cell_type": "markdown",
   "metadata": {},
   "source": [
    "#### Intermediate Results \n",
    "\n",
    "You have a completely different view between the classes:\n",
    "- a large assignment in the first class\n",
    "- low and decreasing assigment in the two last classes\n",
    "\n",
    "Consequently we might check the following **hypothesis**: \n",
    "\n",
    "the known assigned in the first class are spouces or children staying in the cabin of their related husband/father"
   ]
  },
  {
   "cell_type": "code",
   "execution_count": null,
   "metadata": {},
   "outputs": [],
   "source": [
    "# Check if the first class non assigned are Sibling or spouses\n",
    "\n",
    "pwoc_nb.sum()['SibSp'] + pwoc_nb.sum()['Parch']  "
   ]
  },
  {
   "cell_type": "markdown",
   "metadata": {
    "collapsed": true
   },
   "source": [
    "The 11 spouses and children are no matches to the 40 1st class passengers without cabins. \n",
    "\n",
    "**We can't draw any conclusions but make some suppositions**:\n",
    "- the hypothesis is true, but the data set (a sample of 891 passengers out of 1320 passengers and 892 staff menbers) is not \"clean\" enough. The related data are in the remaining part of the population\n",
    "- the non assigned shared a cabin but had no filial or marital relationship with the assigned guest. This would include household staff and mistresses\n",
    "- some cabins were not prebooked and assigned only on the ship and the related records were lost\n"
   ]
  },
  {
   "cell_type": "markdown",
   "metadata": {},
   "source": [
    "#### 2.1. The \"unassigned cabin issue\": Conclusion and consequences\n",
    "\n",
    "#### The higher proportion of  assigned cabins in the first class\n",
    "\n",
    "This higher proportion of the known assigned is not that surprising. Although the following comments are assumptions, they might be more than plausible\n",
    "- the first class passenger more likely booked their cabins centrally and a pre-assignment was made by the company. The latter had more interest to keep a record for this high-value customers for **marketing purposes** (though this term was not coined at the time)\n",
    "- the other customers would generally be assigned a cabin on the ship itself. If a record was kept - which is not sure -, it lays at the bottom of the Atlantic.\n",
    "\n",
    "#### Consequences for our inquiries\n",
    "\n",
    "The unfortunate consequence is that an analysis of survival rates by deck (the first character of the cabin number) is only possible for first class passengers. \n",
    "You could also think that a lot of these passengers would be still up enjoying the luxury life on board whereas the second and third class passengers would be more likely asleep.\n",
    "\n",
    "So **consequently** we will drop an analysis of **survival rates by deck**-"
   ]
  },
  {
   "cell_type": "markdown",
   "metadata": {},
   "source": [
    "#### 2.2. number of passengers without age data: data analysis\n",
    "\n"
   ]
  },
  {
   "cell_type": "code",
   "execution_count": null,
   "metadata": {},
   "outputs": [],
   "source": [
    "print 'Example of a passanger without age data'\n",
    "\n",
    "print passenger_df.iloc[5]"
   ]
  },
  {
   "cell_type": "code",
   "execution_count": null,
   "metadata": {},
   "outputs": [],
   "source": [
    "# Check the data\n",
    "\n",
    "passengers_wo_age = passenger_df.loc[passenger_df['Age'].isnull()]\n",
    "\n",
    "print len(passengers_wo_age)"
   ]
  },
  {
   "cell_type": "markdown",
   "metadata": {},
   "source": [
    "#### Intermediate Results\n",
    "\n",
    "Having **177** passengers (~20%) without age might waterdown the assumptions. Yet the results with the remaining data could be significant enough"
   ]
  },
  {
   "cell_type": "code",
   "execution_count": null,
   "metadata": {},
   "outputs": [],
   "source": [
    "passengers_wo_age.head(10)"
   ]
  },
  {
   "cell_type": "markdown",
   "metadata": {},
   "source": [
    "#### 2.2. number of passengers without age data: Conclusions\n",
    "\n",
    "The first view of the data shows that there seems to be **no real correlation between variables**. The results are not dependent from\n",
    "- the booked class: all are present\n",
    "- the embarkment place: all are present\n",
    "- the sex of the passenger: both women and men don't have data\n",
    "- the assignment of cabins\n",
    "\n",
    "So **consequently** we would need to accept the **watering down of the age data**."
   ]
  }
 ],
 "metadata": {
  "kernelspec": {
   "display_name": "Python 2",
   "language": "python",
   "name": "python2"
  },
  "language_info": {
   "codemirror_mode": {
    "name": "ipython",
    "version": 2
   },
   "file_extension": ".py",
   "mimetype": "text/x-python",
   "name": "python",
   "nbconvert_exporter": "python",
   "pygments_lexer": "ipython2",
   "version": "2.7.13"
  }
 },
 "nbformat": 4,
 "nbformat_minor": 2
}
