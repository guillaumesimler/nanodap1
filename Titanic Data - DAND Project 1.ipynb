{
 "cells": [
  {
   "cell_type": "markdown",
   "metadata": {},
   "source": [
    "# Analyzing the Titanic Data"
   ]
  },
  {
   "cell_type": "markdown",
   "metadata": {},
   "source": [
    "## Introductionary words\n",
    "\n",
    "This **project** is part of the **[Udacity data analyst nanodegree](https://www.udacity.com/course/data-analyst-nanodegree--nd002)**. This analysis is done by **[Guillaume Simler](https://github.com/guillaumesimler)** as part of his nanodegree's graduation.\n",
    "\n",
    "For more infos, please have a look at the related **[githup repo](https://github.com/guillaumesimler/nanodap1)**"
   ]
  },
  {
   "cell_type": "markdown",
   "metadata": {},
   "source": [
    "## Some discussions about the facts\n",
    "\n",
    "Everybody knows about the story of the RMS Titanic, the unsinkable sunken cruiser, and her catastrophic ending. If it is not the case, please have a look at the [wikipedia page](https://en.wikipedia.org/wiki/RMS_Titanic).\n",
    "\n",
    "As it was considered unsinkable, there were no need for life boat capacity matching at least the number of passengers and crews. So this error became quite **fatal**.\n",
    "Actually you would need far more capacity as the sinking of the [Costa Concordia](https://en.wikipedia.org/wiki/Costa_Concordia_disaster) showed.\n",
    "\n",
    "One last thing about the Titanic\n",
    "> *Built by Irishmen. Sunk by Englishmen*"
   ]
  },
  {
   "cell_type": "markdown",
   "metadata": {},
   "source": [
    "## 1. Loading modules & files "
   ]
  },
  {
   "cell_type": "code",
   "execution_count": null,
   "metadata": {},
   "outputs": [],
   "source": [
    "# Import Modules\n",
    "\n",
    "%pylab inline\n",
    "import numpy as np\n",
    "import pandas as pd\n",
    "import matplotlib.pyplot as plt\n",
    "import seaborn as sns"
   ]
  },
  {
   "cell_type": "code",
   "execution_count": null,
   "metadata": {
    "collapsed": true
   },
   "outputs": [],
   "source": [
    "# Import Data \n",
    "\n",
    "passenger_df = pd.read_csv('titanic-data.csv')"
   ]
  },
  {
   "cell_type": "markdown",
   "metadata": {},
   "source": [
    "#### Testing the data loading"
   ]
  },
  {
   "cell_type": "code",
   "execution_count": null,
   "metadata": {
    "scrolled": true
   },
   "outputs": [],
   "source": [
    "passenger_df.head(7)"
   ]
  },
  {
   "cell_type": "code",
   "execution_count": null,
   "metadata": {},
   "outputs": [],
   "source": [
    "# Number of data set\n",
    "\n",
    "print len(passenger_df.index) "
   ]
  },
  {
   "cell_type": "markdown",
   "metadata": {},
   "source": [
    "## 2. Data wrangling: First Analysis\n",
    "\n",
    "Several topics need to be checked after the data:\n",
    "1. Some passengers have no **Cabin** number. Out of the small data set, it seems to be linked with the class: the third class passengers seems to have no numbered cabine. **This needs to be checked !**\n",
    "2. Some persons don't have any age data filed. **It needs to be checked how frequent this happens !!**\n"
   ]
  },
  {
   "cell_type": "markdown",
   "metadata": {},
   "source": [
    "#### 2.1. The \"unassigned cabin issue\": Data Analysis"
   ]
  },
  {
   "cell_type": "code",
   "execution_count": null,
   "metadata": {},
   "outputs": [],
   "source": [
    "# Select the data for the passenger with no cabin\n",
    "\n",
    "passengers_without_cabins = passenger_df.loc[pd.isnull(passenger_df['Cabin'])]"
   ]
  },
  {
   "cell_type": "code",
   "execution_count": null,
   "metadata": {
    "scrolled": true
   },
   "outputs": [],
   "source": [
    "# Check if there is a link between the absence of cabin and the class\n",
    "\n",
    "pwoc_nb = passengers_without_cabins.groupby('Pclass')\n",
    "\n",
    "print 'The number of passengers by class without a cabin number is'\n",
    "print pwoc_nb.size()\n"
   ]
  },
  {
   "cell_type": "code",
   "execution_count": null,
   "metadata": {},
   "outputs": [],
   "source": [
    "# Check the number of passenger with cabins\n",
    "\n",
    "pwc_nb = passenger_df.groupby('Pclass').size() - pwoc_nb.size()\n",
    "\n",
    "print 'The number of passengers by class with a cabin number is'\n",
    "print pwc_nb"
   ]
  },
  {
   "cell_type": "code",
   "execution_count": null,
   "metadata": {},
   "outputs": [],
   "source": [
    "# Check the proportion of the passenger with cabins\n",
    "\n",
    "print pwc_nb / passenger_df.groupby('Pclass').size()"
   ]
  },
  {
   "cell_type": "markdown",
   "metadata": {},
   "source": [
    "#### Intermediate Results \n",
    "\n",
    "You have a completely different view between the classes:\n",
    "- a large assignment in the first class\n",
    "- low and decreasing assigment in the two last classes\n",
    "\n",
    "Consequently we might check the following **hypothesis**: \n",
    "\n",
    "the known assigned in the first class are spouces or children staying in the cabin of their related husband/father"
   ]
  },
  {
   "cell_type": "code",
   "execution_count": null,
   "metadata": {},
   "outputs": [],
   "source": [
    "# Check if the first class non assigned are Sibling or spouses\n",
    "\n",
    "pwoc_nb.sum()['SibSp'] + pwoc_nb.sum()['Parch']  "
   ]
  },
  {
   "cell_type": "markdown",
   "metadata": {
    "collapsed": true
   },
   "source": [
    "The 11 spouses and children are no matches to the 40 1st class passengers without cabins. \n",
    "\n",
    "**We can't draw any conclusions but make some suppositions**:\n",
    "- the hypothesis is true, but the data set (a sample of 891 passengers out of 1320 passengers and 892 staff menbers) is not \"clean\" enough. The related data are in the remaining part of the population\n",
    "- the non assigned shared a cabin but had no filial or marital relationship with the assigned guest. This would include household staff and mistresses\n",
    "- some cabins were not prebooked and assigned only on the ship and the related records were lost\n"
   ]
  },
  {
   "cell_type": "markdown",
   "metadata": {},
   "source": [
    "#### 2.1. The \"unassigned cabin issue\": Conclusion and consequences\n",
    "\n",
    "#### The higher proportion of  assigned cabins in the first class\n",
    "\n",
    "This higher proportion of the known assigned is not that surprising. Although the following comments are assumptions, they might be more than plausible\n",
    "- the first class passenger more likely booked their cabins centrally and a pre-assignment was made by the company. The latter had more interest to keep a record for this high-value customers for **marketing purposes** (though this term was not coined at the time)\n",
    "- the other customers would generally be assigned a cabin on the ship itself. If a record was kept - which is not sure -, it lays at the bottom of the Atlantic.\n",
    "\n",
    "#### Consequences for our inquiries\n",
    "\n",
    "The unfortunate consequence is that an analysis of survival rates by deck (the first character of the cabin number) is only possible for first class passengers. \n",
    "You could also think that a lot of these passengers would be still up enjoying the luxury life on board whereas the second and third class passengers would be more likely asleep.\n",
    "\n",
    "So **consequently** we will drop an analysis of **survival rates by deck**-"
   ]
  },
  {
   "cell_type": "markdown",
   "metadata": {},
   "source": [
    "#### 2.2. number of passengers without age data: data analysis"
   ]
  },
  {
   "cell_type": "code",
   "execution_count": null,
   "metadata": {},
   "outputs": [],
   "source": [
    "print 'Example of a passanger without age data'\n",
    "\n",
    "print passenger_df.iloc[5]"
   ]
  },
  {
   "cell_type": "code",
   "execution_count": null,
   "metadata": {},
   "outputs": [],
   "source": [
    "# Check the data\n",
    "\n",
    "passengers_wo_age = passenger_df.loc[passenger_df['Age'].isnull()]\n",
    "\n",
    "print len(passengers_wo_age)"
   ]
  },
  {
   "cell_type": "markdown",
   "metadata": {},
   "source": [
    "#### Intermediate Results\n",
    "\n",
    "Having **177** passengers (~20%) without age might waterdown the assumptions. Yet the results with the remaining data could be significant enough"
   ]
  },
  {
   "cell_type": "code",
   "execution_count": null,
   "metadata": {},
   "outputs": [],
   "source": [
    "passengers_wo_age.head(10)"
   ]
  },
  {
   "cell_type": "markdown",
   "metadata": {},
   "source": [
    "#### 2.2. number of passengers without age data: Conclusions\n",
    "\n",
    "The first view of the data shows that there seems to be **no real correlation between variables**. The results are not dependent from\n",
    "- the booked class: all are present\n",
    "- the embarkment place: all are present\n",
    "- the sex of the passenger: both women and men don't have data\n",
    "- the assignment of cabins\n",
    "\n",
    "So **consequently** we would need to accept the **watering down of the age data**."
   ]
  },
  {
   "cell_type": "markdown",
   "metadata": {},
   "source": [
    "## 3. Data analysis: what factors made people more likely to survive?"
   ]
  },
  {
   "cell_type": "markdown",
   "metadata": {},
   "source": [
    "We already saw that **death** was unavoidable in case of a sinking (unless another ship would be near):\n",
    "- not enough life boats\n",
    "- waters slightly above the freezing point, i.e. with very fast hypothermia.\n",
    "\n",
    "But **what would be the factors which made you more likely to be saved?**"
   ]
  },
  {
   "cell_type": "markdown",
   "metadata": {},
   "source": [
    "### 3.1. Executive Summary\n",
    "\n",
    "The result of the following analysises were:\n",
    "\n",
    "#### 3.1.1. Contributing Factors\n",
    "\n",
    "Higher survival factors are:\n",
    "- being a woman or child \n",
    "- being well-off\n",
    "\n",
    "#### 3.1.2. Non-Contributing Factors\n",
    "\n",
    "High survival factors are **not**:\n",
    "- your boarding port (correlation is not causalation !!)"
   ]
  },
  {
   "cell_type": "markdown",
   "metadata": {},
   "source": [
    "### 3.2. General aspects\n",
    "\n",
    "#### 3.2.1. Generic question: What was the overall survival rates?"
   ]
  },
  {
   "cell_type": "code",
   "execution_count": null,
   "metadata": {
    "collapsed": true
   },
   "outputs": [],
   "source": [
    "def display_survivalrate(df):\n",
    "    df.hist(bins = 3)\n",
    "    plt.xlabel('Survival (bolean)')\n",
    "    plt.ylabel('# Passengers')\n",
    "    plt.title('Fate of the passengers')\n",
    "    plt.show()\n",
    "    \n",
    "    print \"Get the some more data: \"\n",
    "    print\n",
    "    print df.describe()"
   ]
  },
  {
   "cell_type": "code",
   "execution_count": null,
   "metadata": {},
   "outputs": [],
   "source": [
    "survival = passenger_df['Survived']\n",
    "\n",
    "display_survivalrate(survival)"
   ]
  },
  {
   "cell_type": "markdown",
   "metadata": {},
   "source": [
    "#### 3.2.2. Results\n",
    "\n",
    "These results just confirmed the **certainety of a death toll** with a **survival rate of only 38,38%** (in this case the mean equals the proportion)"
   ]
  },
  {
   "cell_type": "markdown",
   "metadata": {},
   "source": [
    "### 3.3. Hypothesis n°1: women and children first!\n",
    "\n",
    "#### 3.3.1. Introduction \n",
    "\n",
    "Though it is not legally binding practice, a knightly approach prevails: women and children should take the first boats and men take the remaining (if existing) solution."
   ]
  },
  {
   "cell_type": "markdown",
   "metadata": {},
   "source": [
    "#### 3.3.2. Hypothesis:\n",
    "\n",
    "Based on the principle, we can lay the following hypothesis:\n",
    "\n",
    "**Being a woman or a child improved drastically your survival chances** (aka survival factor) "
   ]
  },
  {
   "cell_type": "markdown",
   "metadata": {},
   "source": [
    "#### 3.2.3. Data Analysis\n",
    "\n",
    "We need first to get the data for the women and children:\n",
    "1. Getting women and girls is easy: Select the \"female\" value for the \"Sex\" column\n",
    "2. Getting data for boys is more complicated as we need to decide when a man is a boy and when a man. In this case we will take 15"
   ]
  },
  {
   "cell_type": "code",
   "execution_count": null,
   "metadata": {},
   "outputs": [],
   "source": [
    "# Get the women and children data\n",
    "\n",
    "# Get the women and girls\n",
    "women_on_board = passenger_df.loc[passenger_df['Sex'] == 'female']\n",
    "\n",
    "# Get the boys in\n",
    "\n",
    "## Define a maximum age for boyhood\n",
    "max_age = 15 \n",
    "\n",
    "boys_on_board = passenger_df.loc[passenger_df['Sex'] == 'male'].loc[passenger_df['Age'] <= max_age]\n",
    "\n",
    "men_on_board = passenger_df.loc[passenger_df['Sex'] == 'male'].loc[passenger_df['Age'] > max_age]\n",
    "\n",
    "women_and_children = women_on_board.merge(boys_on_board, how='outer')"
   ]
  },
  {
   "cell_type": "code",
   "execution_count": null,
   "metadata": {},
   "outputs": [],
   "source": [
    "# check data\n",
    "\n",
    "women_and_children.head(10)"
   ]
  },
  {
   "cell_type": "code",
   "execution_count": null,
   "metadata": {},
   "outputs": [],
   "source": [
    "display_survivalrate(women_and_children['Survived'])"
   ]
  },
  {
   "cell_type": "code",
   "execution_count": null,
   "metadata": {},
   "outputs": [],
   "source": [
    "print \"As a comparison, the men survival rate (%) was\"\n",
    "print men_on_board['Survived'].mean() * 100"
   ]
  },
  {
   "cell_type": "markdown",
   "metadata": {},
   "source": [
    "#### 3.3.4. Conclusions\n",
    "\n",
    "The results are clear.\n",
    "Women and children were fare more likely to survive (72% survival chance) than men (17% survival chance)\n",
    "\n",
    "**Consequently <span style=\"color:green\">the \"women and children first!\" hypothesis is validated</span>**"
   ]
  },
  {
   "cell_type": "markdown",
   "metadata": {},
   "source": [
    "### 3.4. Hypothesis n°2: let the poor guy die!\n",
    "\n",
    "#### 3.4.1. Hypothesis:\n",
    "\n",
    "The obvious assumption would be that the richest passengers would be saved first. \n",
    "\n",
    "The first reason would be **practical**:\n",
    "- 1st class passengers have access to the higher decks where most of the life boats are store \n",
    "- moreover, they might have less \"competition\" for getting in the boats (so less group effect)\n",
    "\n",
    "The second reason might come from a biased (in our eyes, depictable) **moral** view:\n",
    "- 1st class passengers could have been seen as \"more worthy to be saved\""
   ]
  },
  {
   "cell_type": "markdown",
   "metadata": {},
   "source": [
    "#### 3.4.2. Data Analysis"
   ]
  },
  {
   "cell_type": "markdown",
   "metadata": {},
   "source": [
    "For this data, we could use the fare as a proxy for the passenger's wealth. So, let's work on it!"
   ]
  },
  {
   "cell_type": "code",
   "execution_count": null,
   "metadata": {},
   "outputs": [],
   "source": [
    "# Describe the fare and age data\n",
    "\n",
    "passenger_df[['Fare','Age']].describe()"
   ]
  },
  {
   "cell_type": "code",
   "execution_count": null,
   "metadata": {
    "collapsed": true
   },
   "outputs": [],
   "source": [
    "# Build a helper function\n",
    "\n",
    "def standardize_column(df, Column):\n",
    "    \n",
    "    df[Column] = (df[Column] - df[Column].mean()) / df[Column].std(ddof=0)\n",
    "    \n",
    "    return df"
   ]
  },
  {
   "cell_type": "code",
   "execution_count": null,
   "metadata": {},
   "outputs": [],
   "source": [
    "# Standardize the fare data\n",
    "\n",
    "passenger_df = standardize_column(passenger_df,'Fare')\n",
    "\n",
    "passenger_df.head()"
   ]
  },
  {
   "cell_type": "markdown",
   "metadata": {},
   "source": [
    "#### 3.4.3. Results\n",
    "\n",
    "Please be aware that a high class has a low number. Consequently a negative correlation with the class as calculate is actually a positive correlation with your comfort class. \n",
    "\n",
    "Let's start with obvious:\n",
    "- The **strongest correlation** is between fare and class: the higher the class, the higher the fare.\n",
    "- Your passenger id does not correlate with your survival rate (**lowest correlation**)\n",
    "\n",
    "Let's continue with the **expected**:\n",
    "- There is a **stronger, but not too high correlation** between fare and survival and class and survival\n",
    "\n",
    "Let's face the surprises:\n",
    "- The age seems to be a small, negative correlation with your survival rates (we could have expected a larger vision)"
   ]
  },
  {
   "cell_type": "markdown",
   "metadata": {},
   "source": [
    "### 3.5. Hypothesis n°3: rule Britania !\n",
    "\n",
    "#### 3.5.1. Hypothesis:\n",
    "\n",
    "One could think that the Titanic being a British vessel passengers who boarded in England could be get a higher priority for safety.\n"
   ]
  },
  {
   "cell_type": "markdown",
   "metadata": {},
   "source": [
    "#### 3.5.2. Data Analysis"
   ]
  },
  {
   "cell_type": "code",
   "execution_count": null,
   "metadata": {},
   "outputs": [],
   "source": [
    "def survival_rate_emb(df, value):\n",
    "    return [df.loc[df['Embarked'] == value]['Survived'].mean()]"
   ]
  },
  {
   "cell_type": "code",
   "execution_count": null,
   "metadata": {},
   "outputs": [],
   "source": [
    "embarkment_survival = pd.DataFrame(\n",
    "    data = [survival_rate_emb(passenger_df, 'C'), survival_rate_emb(passenger_df, 'S'), survival_rate_emb(passenger_df, 'Q')],\n",
    "    index = ['Cherbourg','Southamptom', 'Queenstown' ],\n",
    "    columns = ['Survival'])\n",
    "\n",
    "print \"Survival rate depending on embarkment port\"\n",
    "embarkment_survival"
   ]
  },
  {
   "cell_type": "markdown",
   "metadata": {},
   "source": [
    "#### 3.5.3. Preliminary Results\n",
    "\n",
    "Surpringly, passengers embarking from England had the lowest survival rates. Even the passengers from England's first colony (aka Ireland) had a slightly higher survival chance.\n",
    "\n",
    "How could this be explained?"
   ]
  },
  {
   "cell_type": "markdown",
   "metadata": {},
   "source": [
    "#### 3.5.4. Further Data analysis"
   ]
  },
  {
   "cell_type": "code",
   "execution_count": null,
   "metadata": {
    "collapsed": true
   },
   "outputs": [],
   "source": [
    "def display_embark(Value):\n",
    "    embarkment_place = passenger_df.loc[ passenger_df['Embarked'] == Value]\n",
    "\n",
    "    return embarkment_place.describe()"
   ]
  },
  {
   "cell_type": "markdown",
   "metadata": {},
   "source": [
    "**Values for Cherbourg**"
   ]
  },
  {
   "cell_type": "code",
   "execution_count": null,
   "metadata": {},
   "outputs": [],
   "source": [
    "# Check the values from Cherbourg\n",
    "\n",
    "display_embark('C')"
   ]
  },
  {
   "cell_type": "markdown",
   "metadata": {},
   "source": [
    "**Values for Southampton**"
   ]
  },
  {
   "cell_type": "code",
   "execution_count": null,
   "metadata": {},
   "outputs": [],
   "source": [
    "# Check the values from Southampton\n",
    "\n",
    "display_embark('S')"
   ]
  },
  {
   "cell_type": "markdown",
   "metadata": {},
   "source": [
    "**Values for Queenstown**"
   ]
  },
  {
   "cell_type": "code",
   "execution_count": null,
   "metadata": {},
   "outputs": [],
   "source": [
    "# Check the values from Queenstown\n",
    "\n",
    "display_embark('Q')"
   ]
  },
  {
   "cell_type": "markdown",
   "metadata": {},
   "source": [
    "#### 3.5.5. Results\n",
    "\n",
    "So the data shows a good explanation for this tremendous higher survival rate from Cherbourg passengers: they are far more well-off (in average) than the rest of the passengers.\n",
    "\n",
    "Look at the mean of **classes**: \n",
    "- the poor Irish is confirmed (2,9)\n",
    "- the persons boarding in Cherboug are in far higher classes (1.9) indicating wealthier passengers\n",
    "\n",
    "And we already demonstrated that those passengers would have higher survival rates. \n",
    "\n",
    "There might be a pratical explanation: \n",
    "1. as the Titanic was a British vessel, mostly English-leaning passengers would board it.\n",
    "2. French speaking passengers would rather board French ships in Cherbourg (having mostlikely similar demographics than from Southampton)\n",
    "3. So, passengers boarding on the Titanic in Cherbourg would be English speakers being in France: so tourists or businessman, so **wealthy persons**\n",
    "\n",
    "So there is a link with boarding in Cherbourg and surviving, but **correlation is not causalation !!!!**"
   ]
  }
 ],
 "metadata": {
  "kernelspec": {
   "display_name": "Python 2",
   "language": "python",
   "name": "python2"
  },
  "language_info": {
   "codemirror_mode": {
    "name": "ipython",
    "version": 2
   },
   "file_extension": ".py",
   "mimetype": "text/x-python",
   "name": "python",
   "nbconvert_exporter": "python",
   "pygments_lexer": "ipython2",
   "version": "2.7.13"
  }
 },
 "nbformat": 4,
 "nbformat_minor": 2
}
